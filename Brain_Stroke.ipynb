{
 "cells": [
  {
   "cell_type": "code",
   "execution_count": 1,
   "id": "7503656c",
   "metadata": {
    "_cell_guid": "b1076dfc-b9ad-4769-8c92-a6c4dae69d19",
    "_uuid": "8f2839f25d086af736a60e9eeb907d3b93b6e0e5",
    "execution": {
     "iopub.execute_input": "2022-08-20T16:23:47.056448Z",
     "iopub.status.busy": "2022-08-20T16:23:47.055949Z",
     "iopub.status.idle": "2022-08-20T16:23:47.076607Z",
     "shell.execute_reply": "2022-08-20T16:23:47.075661Z"
    },
    "papermill": {
     "duration": 0.031728,
     "end_time": "2022-08-20T16:23:47.078959",
     "exception": false,
     "start_time": "2022-08-20T16:23:47.047231",
     "status": "completed"
    },
    "tags": []
   },
   "outputs": [
    {
     "name": "stdout",
     "output_type": "stream",
     "text": [
      "/kaggle/input/full-filled-brain-stroke-dataset/full_data.csv\n",
      "/kaggle/input/full-filled-brain-stroke-dataset/full_filled_stroke_data (1).csv\n"
     ]
    }
   ],
   "source": [
    "# This Python 3 environment comes with many helpful analytics libraries installed\n",
    "# It is defined by the kaggle/python Docker image: https://github.com/kaggle/docker-python\n",
    "# For example, here's several helpful packages to load\n",
    "\n",
    "import numpy as np # linear algebra\n",
    "import pandas as pd # data processing, CSV file I/O (e.g. pd.read_csv)\n",
    "\n",
    "# Input data files are available in the read-only \"../input/\" directory\n",
    "# For example, running this (by clicking run or pressing Shift+Enter) will list all files under the input directory\n",
    "\n",
    "import os\n",
    "for dirname, _, filenames in os.walk('/kaggle/input'):\n",
    "    for filename in filenames:\n",
    "        print(os.path.join(dirname, filename))\n",
    "\n",
    "# You can write up to 20GB to the current directory (/kaggle/working/) that gets preserved as output when you create a version using \"Save & Run All\" \n",
    "# You can also write temporary files to /kaggle/temp/, but they won't be saved outside of the current session"
   ]
  },
  {
   "cell_type": "code",
   "execution_count": 2,
   "id": "6a710945",
   "metadata": {
    "execution": {
     "iopub.execute_input": "2022-08-20T16:23:47.093164Z",
     "iopub.status.busy": "2022-08-20T16:23:47.092054Z",
     "iopub.status.idle": "2022-08-20T16:23:47.137094Z",
     "shell.execute_reply": "2022-08-20T16:23:47.135965Z"
    },
    "papermill": {
     "duration": 0.054941,
     "end_time": "2022-08-20T16:23:47.140036",
     "exception": false,
     "start_time": "2022-08-20T16:23:47.085095",
     "status": "completed"
    },
    "tags": []
   },
   "outputs": [],
   "source": [
    "dftrain=pd.read_csv('/kaggle/input/full-filled-brain-stroke-dataset/full_data.csv')\n",
    "dftrain=dftrain.sample(frac=1)\n",
    "dfeval=pd.read_csv('/kaggle/input/full-filled-brain-stroke-dataset/full_filled_stroke_data (1).csv')"
   ]
  },
  {
   "cell_type": "code",
   "execution_count": 3,
   "id": "ccd62d9f",
   "metadata": {
    "execution": {
     "iopub.execute_input": "2022-08-20T16:23:47.153092Z",
     "iopub.status.busy": "2022-08-20T16:23:47.152693Z",
     "iopub.status.idle": "2022-08-20T16:23:47.173300Z",
     "shell.execute_reply": "2022-08-20T16:23:47.171962Z"
    },
    "papermill": {
     "duration": 0.03089,
     "end_time": "2022-08-20T16:23:47.176663",
     "exception": false,
     "start_time": "2022-08-20T16:23:47.145773",
     "status": "completed"
    },
    "tags": []
   },
   "outputs": [
    {
     "name": "stdout",
     "output_type": "stream",
     "text": [
      "      gender   age  hypertension  heart_disease ever_married work_type  \\\n",
      "3896  Female  35.0             0              0          Yes   Private   \n",
      "2578  Female   6.0             0              0           No  children   \n",
      "4534  Female  61.0             0              0          Yes   Private   \n",
      "902     Male  50.0             0              0          Yes   Private   \n",
      "4275  Female  51.0             0              0          Yes  Govt_job   \n",
      "\n",
      "     Residence_type  avg_glucose_level   bmi   smoking_status  stroke  \n",
      "3896          Rural             119.40  22.9     never smoked       0  \n",
      "2578          Rural              84.10  19.8          Unknown       0  \n",
      "4534          Urban             129.31  30.7  formerly smoked       0  \n",
      "902           Urban              57.93  27.6          Unknown       0  \n",
      "4275          Urban              95.33  27.9     never smoked       0  \n",
      "   gender   age  hypertension  heart_disease ever_married      work_type  \\\n",
      "0  Female  61.0             0              0          Yes  Self-employed   \n",
      "1  Female  59.0             0              0          Yes        Private   \n",
      "2    Male  78.0             0              1          Yes        Private   \n",
      "3    Male  57.0             0              1           No       Govt_job   \n",
      "4    Male  58.0             0              0          Yes        Private   \n",
      "\n",
      "  Residence_type  avg_glucose_level        bmi smoking_status  stroke  \n",
      "0          Rural             202.21  31.555602   never smoked       1  \n",
      "1          Rural              76.15  30.242937        Unknown       1  \n",
      "2          Urban             219.84  30.698951        Unknown       1  \n",
      "3          Urban             217.08  33.808410        Unknown       1  \n",
      "4          Rural             189.84  31.378534        Unknown       1  \n"
     ]
    }
   ],
   "source": [
    "print(dftrain.head())\n",
    "print(dfeval.head())"
   ]
  },
  {
   "cell_type": "code",
   "execution_count": 4,
   "id": "216c778e",
   "metadata": {
    "execution": {
     "iopub.execute_input": "2022-08-20T16:23:47.191064Z",
     "iopub.status.busy": "2022-08-20T16:23:47.190345Z",
     "iopub.status.idle": "2022-08-20T16:23:47.200682Z",
     "shell.execute_reply": "2022-08-20T16:23:47.199584Z"
    },
    "papermill": {
     "duration": 0.020057,
     "end_time": "2022-08-20T16:23:47.203103",
     "exception": false,
     "start_time": "2022-08-20T16:23:47.183046",
     "status": "completed"
    },
    "tags": []
   },
   "outputs": [],
   "source": [
    "y_train=dftrain.pop('stroke')\n",
    "y_eval=dfeval.pop('stroke')"
   ]
  },
  {
   "cell_type": "code",
   "execution_count": 5,
   "id": "d481e0ba",
   "metadata": {
    "execution": {
     "iopub.execute_input": "2022-08-20T16:23:47.216988Z",
     "iopub.status.busy": "2022-08-20T16:23:47.216169Z",
     "iopub.status.idle": "2022-08-20T16:23:47.270830Z",
     "shell.execute_reply": "2022-08-20T16:23:47.269318Z"
    },
    "papermill": {
     "duration": 0.066443,
     "end_time": "2022-08-20T16:23:47.275305",
     "exception": false,
     "start_time": "2022-08-20T16:23:47.208862",
     "status": "completed"
    },
    "tags": []
   },
   "outputs": [],
   "source": [
    "dftrain.loc[dftrain['gender']=='Male','gender']=1\n",
    "dftrain.loc[dftrain['gender']=='Female','gender']=0\n",
    "dftrain.loc[dftrain['ever_married']=='Yes','ever_married']=1\n",
    "dftrain.loc[dftrain['ever_married']=='No','ever_married']=0\n",
    "dftrain['Private'] = np.where(dftrain['work_type']== 'Private',1, 0)\n",
    "dftrain['Self-employed'] = np.where(dftrain['work_type']== 'Self-employed',1, 0)\n",
    "dftrain['Govt_job'] = np.where(dftrain['work_type']== 'Govt_job',1, 0)\n",
    "dftrain['children'] = np.where(dftrain['work_type']== 'children',1, 0)\n",
    "# dftrain.loc[dftrain['work_type']=='Private','work_type']=0\n",
    "# dftrain.loc[dftrain['work_type']=='Self-employed','work_type']=1\n",
    "# dftrain.loc[dftrain['work_type']=='Govt_job','work_type']=2\n",
    "# dftrain.loc[dftrain['work_type']=='children','work_type']=3\n",
    "dftrain.pop('work_type')\n",
    "dftrain.loc[dftrain['Residence_type']=='Urban','Residence_type']=1\n",
    "dftrain.loc[dftrain['Residence_type']=='Rural','Residence_type']=0\n",
    "dftrain.loc[dftrain['smoking_status']=='formerly smoked','smoking_status']=1\n",
    "dftrain.loc[dftrain['smoking_status']=='never smoked','smoking_status']=-1\n",
    "dftrain.loc[dftrain['smoking_status']=='smokes','smoking_status']=2\n",
    "dftrain.loc[dftrain['smoking_status']=='Unknown','smoking_status']=0\n",
    "dftrain['age']=dftrain['age']/100\n",
    "dftrain['avg_glucose_level']=dftrain['avg_glucose_level']/300\n",
    "dftrain['bmi']=dftrain['bmi']/50\n",
    "#dftrain['work_type']=dftrain['work_type']/3\n",
    "dftrain['smoking_status']=dftrain['smoking_status']/3\n",
    "dfeval.loc[dfeval['gender']=='Male','gender']=1\n",
    "dfeval.loc[dfeval['gender']=='Female','gender']=0\n",
    "dfeval.loc[dfeval['ever_married']=='Yes','ever_married']=1\n",
    "dfeval.loc[dfeval['ever_married']=='No','ever_married']=0\n",
    "dfeval['Private'] = np.where(dfeval['work_type']== 'Private',1, 0)\n",
    "dfeval['Self-employed'] = np.where(dfeval['work_type']== 'Self-employed',1, 0)\n",
    "dfeval['Govt_job'] = np.where(dfeval['work_type']== 'Govt_job',1, 0)\n",
    "dfeval['children'] = np.where(dfeval['work_type']== 'children',1, 0)\n",
    "# dfeval.loc[dfeval['work_type']=='Private','work_type']=0\n",
    "# dfeval.loc[dfeval['work_type']=='Self-employed','work_type']=1\n",
    "# dfeval.loc[dfeval['work_type']=='Govt_job','work_type']=2\n",
    "# dfeval.loc[dfeval['work_type']=='children','work_type']=3\n",
    "dfeval.pop('work_type')\n",
    "dfeval.loc[dfeval['Residence_type']=='Urban','Residence_type']=1\n",
    "dfeval.loc[dfeval['Residence_type']=='Rural','Residence_type']=0\n",
    "dfeval.loc[dfeval['smoking_status']=='formerly smoked','smoking_status']=1\n",
    "dfeval.loc[dfeval['smoking_status']=='never smoked','smoking_status']=-1\n",
    "dfeval.loc[dfeval['smoking_status']=='smokes','smoking_status']=2\n",
    "dfeval.loc[dfeval['smoking_status']=='Unknown','smoking_status']=0\n",
    "dfeval['age']=dfeval['age']/100\n",
    "dfeval['avg_glucose_level']=dfeval['avg_glucose_level']/300\n",
    "dfeval['bmi']=dfeval['bmi']/50\n",
    "#dfeval['work_type']=dfeval['work_type']/3\n",
    "dfeval['smoking_status']=dfeval['smoking_status']/3"
   ]
  },
  {
   "cell_type": "code",
   "execution_count": 6,
   "id": "2c3b98d2",
   "metadata": {
    "execution": {
     "iopub.execute_input": "2022-08-20T16:23:47.291682Z",
     "iopub.status.busy": "2022-08-20T16:23:47.290900Z",
     "iopub.status.idle": "2022-08-20T16:23:47.326823Z",
     "shell.execute_reply": "2022-08-20T16:23:47.325535Z"
    },
    "papermill": {
     "duration": 0.04958,
     "end_time": "2022-08-20T16:23:47.332351",
     "exception": false,
     "start_time": "2022-08-20T16:23:47.282771",
     "status": "completed"
    },
    "tags": []
   },
   "outputs": [
    {
     "name": "stdout",
     "output_type": "stream",
     "text": [
      "     gender     age  hypertension  heart_disease ever_married Residence_type  \\\n",
      "3896      0  0.3500             0              0            1              0   \n",
      "2578      0  0.0600             0              0            0              0   \n",
      "4534      0  0.6100             0              0            1              1   \n",
      "902       1  0.5000             0              0            1              1   \n",
      "4275      0  0.5100             0              0            1              1   \n",
      "2843      0  0.2400             0              0            0              1   \n",
      "3105      1  0.8000             0              0            1              1   \n",
      "1447      0  0.2400             0              0            0              1   \n",
      "3800      1  0.0400             0              0            0              1   \n",
      "1327      1  0.5300             0              0            1              1   \n",
      "1398      0  0.8200             0              0            1              0   \n",
      "4225      1  0.8200             0              1            1              1   \n",
      "441       0  0.1500             0              0            0              0   \n",
      "832       0  0.0172             0              0            0              0   \n",
      "3956      0  0.4300             0              0            1              1   \n",
      "3847      1  0.3900             1              0            1              0   \n",
      "2805      1  0.3000             0              0            1              1   \n",
      "2331      1  0.3100             0              0            0              0   \n",
      "800       1  0.2600             0              0            0              1   \n",
      "4766      1  0.1300             0              0            0              1   \n",
      "2345      1  0.0400             0              0            0              0   \n",
      "2850      0  0.5500             0              0            1              1   \n",
      "1464      0  0.7500             1              0            1              1   \n",
      "2939      1  0.5600             0              0            1              0   \n",
      "726       0  0.1400             0              0            0              0   \n",
      "4436      0  0.1200             0              0            0              0   \n",
      "3509      0  0.3800             0              0            1              0   \n",
      "524       1  0.0500             0              0            0              0   \n",
      "2409      0  0.6900             0              0            1              1   \n",
      "3719      0  0.2700             0              0            1              1   \n",
      "3680      1  0.3600             0              0            0              1   \n",
      "4189      0  0.0800             0              0            0              1   \n",
      "4862      1  0.4700             0              0            0              0   \n",
      "4773      0  0.5700             0              0            1              0   \n",
      "841       1  0.7100             0              1            1              0   \n",
      "2052      1  0.0200             0              0            0              0   \n",
      "3109      1  0.7700             0              0            1              0   \n",
      "3519      1  0.7800             0              0            1              0   \n",
      "1439      1  0.6200             1              1            1              1   \n",
      "3463      1  0.6300             0              0            1              0   \n",
      "3584      1  0.0200             0              0            0              1   \n",
      "752       0  0.3600             1              0            1              1   \n",
      "1924      1  0.7000             0              0            1              0   \n",
      "2775      0  0.4700             0              0            1              0   \n",
      "2756      0  0.2100             0              0            0              0   \n",
      "2078      0  0.0900             0              0            0              0   \n",
      "4807      0  0.0132             0              0            0              1   \n",
      "13        1  0.6400             0              1            1              1   \n",
      "3126      1  0.3700             0              0            1              1   \n",
      "4021      0  0.7000             0              0            1              1   \n",
      "\n",
      "      avg_glucose_level    bmi smoking_status  Private  Self-employed  \\\n",
      "3896           0.398000  0.458      -0.333333        1              0   \n",
      "2578           0.280333  0.396            0.0        0              0   \n",
      "4534           0.431033  0.614       0.333333        1              0   \n",
      "902            0.193100  0.552            0.0        1              0   \n",
      "4275           0.317767  0.558      -0.333333        0              0   \n",
      "2843           0.497233  0.462      -0.333333        1              0   \n",
      "3105           0.495733  0.574      -0.333333        0              0   \n",
      "1447           0.211333  0.406       0.666667        0              0   \n",
      "3800           0.263867  0.404            0.0        0              0   \n",
      "1327           0.413867  0.634      -0.333333        1              0   \n",
      "1398           0.194333  0.408      -0.333333        0              0   \n",
      "4225           0.191867  0.550      -0.333333        1              0   \n",
      "441            0.381767  0.582            0.0        0              0   \n",
      "832            0.365033  0.390            0.0        0              0   \n",
      "3956           0.192633  0.496       0.666667        1              0   \n",
      "3847           0.657867  0.548            0.0        1              0   \n",
      "2805           0.270833  0.546       0.666667        1              0   \n",
      "2331           0.361867  0.436      -0.333333        1              0   \n",
      "800            0.345367  0.628      -0.333333        1              0   \n",
      "4766           0.274600  0.486            0.0        0              0   \n",
      "2345           0.208267  0.398            0.0        0              0   \n",
      "2850           0.341200  0.484      -0.333333        1              0   \n",
      "1464           0.610000  0.416            0.0        1              0   \n",
      "2939           0.274667  0.618       0.666667        1              0   \n",
      "726            0.260300  0.528            0.0        0              0   \n",
      "4436           0.269633  0.402            0.0        0              0   \n",
      "3509           0.313100  0.430      -0.333333        0              0   \n",
      "524            0.545667  0.368            0.0        0              0   \n",
      "2409           0.332267  0.352       0.333333        0              1   \n",
      "3719           0.464000  0.724      -0.333333        1              0   \n",
      "3680           0.668933  0.516            0.0        1              0   \n",
      "4189           0.290500  0.322            0.0        0              0   \n",
      "4862           0.790567  0.642            0.0        1              0   \n",
      "4773           0.259767  0.434      -0.333333        1              0   \n",
      "841            0.691067  0.648       0.666667        0              1   \n",
      "2052           0.375533  0.284            0.0        0              0   \n",
      "3109           0.329467  0.546            0.0        1              0   \n",
      "3519           0.312833  0.454       0.333333        0              1   \n",
      "1439           0.413167  0.696       0.333333        1              0   \n",
      "3463           0.260767  0.696      -0.333333        1              0   \n",
      "3584           0.299500  0.466            0.0        0              0   \n",
      "752            0.305200  0.844      -0.333333        1              0   \n",
      "1924           0.241867  0.608       0.333333        1              0   \n",
      "2775           0.216700  0.434       0.333333        1              0   \n",
      "2756           0.236867  0.506       0.333333        1              0   \n",
      "2078           0.416967  0.308            0.0        0              0   \n",
      "4807           0.234567  0.374            0.0        0              0   \n",
      "13             0.638700  0.750       0.666667        1              0   \n",
      "3126           0.213567  0.560            0.0        1              0   \n",
      "4021           0.259233  0.676       0.666667        1              0   \n",
      "\n",
      "      Govt_job  children  \n",
      "3896         0         0  \n",
      "2578         0         1  \n",
      "4534         0         0  \n",
      "902          0         0  \n",
      "4275         1         0  \n",
      "2843         0         0  \n",
      "3105         1         0  \n",
      "1447         1         0  \n",
      "3800         0         1  \n",
      "1327         0         0  \n",
      "1398         1         0  \n",
      "4225         0         0  \n",
      "441          0         1  \n",
      "832          0         1  \n",
      "3956         0         0  \n",
      "3847         0         0  \n",
      "2805         0         0  \n",
      "2331         0         0  \n",
      "800          0         0  \n",
      "4766         0         1  \n",
      "2345         0         1  \n",
      "2850         0         0  \n",
      "1464         0         0  \n",
      "2939         0         0  \n",
      "726          0         1  \n",
      "4436         0         1  \n",
      "3509         1         0  \n",
      "524          0         1  \n",
      "2409         0         0  \n",
      "3719         0         0  \n",
      "3680         0         0  \n",
      "4189         0         1  \n",
      "4862         0         0  \n",
      "4773         0         0  \n",
      "841          0         0  \n",
      "2052         0         1  \n",
      "3109         0         0  \n",
      "3519         0         0  \n",
      "1439         0         0  \n",
      "3463         0         0  \n",
      "3584         0         1  \n",
      "752          0         0  \n",
      "1924         0         0  \n",
      "2775         0         0  \n",
      "2756         0         0  \n",
      "2078         0         1  \n",
      "4807         0         1  \n",
      "13           0         0  \n",
      "3126         0         0  \n",
      "4021         0         0  \n",
      "   gender     age  hypertension  heart_disease ever_married Residence_type  \\\n",
      "0       0  0.6100             0              0            1              0   \n",
      "1       0  0.5900             0              0            1              0   \n",
      "2       1  0.7800             0              1            1              1   \n",
      "3       1  0.5700             0              1            0              1   \n",
      "4       1  0.5800             0              0            1              0   \n",
      "5       1  0.5900             0              0            1              0   \n",
      "6       0  0.6300             0              0            1              1   \n",
      "7       0  0.7500             0              1            0              1   \n",
      "8       0  0.7600             0              0            0              1   \n",
      "9       1  0.7800             1              0            1              1   \n",
      "10      0  0.6300             0              0            1              1   \n",
      "11      1  0.7800             0              0            1              1   \n",
      "12      1  0.7500             0              0            1              1   \n",
      "13      0  0.7600             0              0            1              0   \n",
      "14      0  0.5100             0              0            1              1   \n",
      "15      0  0.6600             0              0            1              1   \n",
      "16      1  0.5800             0              0            1              1   \n",
      "17      1  0.5800             0              0            1              1   \n",
      "18      0  0.7600             0              0            1              1   \n",
      "19      0  0.7200             0              0            1              1   \n",
      "20      1  0.7800             1              0            1              1   \n",
      "21      0  0.7500             0              0            1              1   \n",
      "22      0  0.3800             0              0            1              0   \n",
      "23      1  0.6500             0              0            1              1   \n",
      "24      0  0.7900             0              0            1              0   \n",
      "25      0  0.7600             0              0            1              1   \n",
      "26      1  0.7100             0              1            1              1   \n",
      "27      0  0.0132             0              0            0              1   \n",
      "28      1  0.7900             1              0            1              0   \n",
      "29      1  0.6400             0              0            1              0   \n",
      "30      0  0.7900             1              1            0              0   \n",
      "31      0  0.7800             0              0            1              0   \n",
      "32      0  0.8000             0              0            1              1   \n",
      "33      0  0.7700             0              0            0              1   \n",
      "34      1  0.6100             0              1            1              1   \n",
      "35      1  0.7900             0              0            1              0   \n",
      "36      1  0.7400             0              0            1              1   \n",
      "37      0  0.7600             1              1            1              1   \n",
      "38      1  0.7400             0              0            1              0   \n",
      "39      1  0.7100             1              0            1              0   \n",
      "40      1  0.3400             0              1            1              1   \n",
      "41      0  0.7600             1              0            1              1   \n",
      "42      0  0.6300             0              0            1              0   \n",
      "43      1  0.6100             0              0            1              1   \n",
      "44      1  0.5400             1              0            1              0   \n",
      "45      1  0.4000             0              0            1              0   \n",
      "46      0  0.4800             1              0            0              0   \n",
      "47      1  0.6100             0              1            1              1   \n",
      "48      1  0.3100             1              0            1              1   \n",
      "49      0  0.4300             0              0            1              0   \n",
      "\n",
      "    avg_glucose_level       bmi smoking_status  Private  Self-employed  \\\n",
      "0            0.674033  0.631112      -0.333333        0              1   \n",
      "1            0.253833  0.604859            0.0        1              0   \n",
      "2            0.732800  0.613979            0.0        1              0   \n",
      "3            0.723600  0.676168            0.0        0              0   \n",
      "4            0.632800  0.627571            0.0        1              0   \n",
      "5            0.705933  0.669691       0.333333        1              0   \n",
      "6            0.303000  0.600851       0.333333        1              0   \n",
      "7            0.365933  0.566365            0.0        0              1   \n",
      "8            0.299867  0.567958            0.0        1              0   \n",
      "9            0.251067  0.582796       0.333333        1              0   \n",
      "10           0.658467  0.632046      -0.333333        0              0   \n",
      "11           0.792500  0.586334       0.333333        1              0   \n",
      "12           0.349067  0.566365            0.0        1              0   \n",
      "13           0.208567  0.559098       0.333333        0              0   \n",
      "14           0.551033  0.609822      -0.333333        1              0   \n",
      "15           0.338167  0.585859            0.0        0              1   \n",
      "16           0.237333  0.600078            0.0        1              0   \n",
      "17           0.274333  0.603991       0.666667        1              0   \n",
      "18           0.354700  0.564041       0.333333        0              1   \n",
      "19           0.733033  0.642407            0.0        1              0   \n",
      "20           0.310433  0.584217       0.333333        0              1   \n",
      "21           0.208267  0.561409            0.0        0              0   \n",
      "22           0.338167  0.597275       0.333333        1              0   \n",
      "23           0.228100  0.591666       0.333333        0              1   \n",
      "24           0.565567  0.559437            0.0        1              0   \n",
      "25           0.193067  0.558818       0.333333        1              0   \n",
      "26           0.272533  0.578915       0.666667        1              0   \n",
      "27           0.234567  0.374385            0.0        0              0   \n",
      "28           0.250067  0.582796      -0.333333        1              0   \n",
      "29           0.373267  0.595811       0.333333        0              1   \n",
      "30           0.203133  0.575197      -0.333333        0              1   \n",
      "31           0.202233  0.541726       0.333333        0              1   \n",
      "32           0.368867  0.545642            0.0        0              0   \n",
      "33           0.271067  0.561629            0.0        1              0   \n",
      "34           0.699533  0.658941            0.0        1              0   \n",
      "35           0.382567  0.544868       0.333333        1              0   \n",
      "36           0.557100  0.574728            0.0        1              0   \n",
      "37           0.666200  0.633681       0.666667        0              1   \n",
      "38           0.203267  0.561409      -0.333333        0              1   \n",
      "39           0.292667  0.615274            0.0        0              1   \n",
      "40           0.354100  0.594047       0.333333        1              0   \n",
      "41           0.698600  0.661580      -0.333333        0              1   \n",
      "42           0.266400  0.599404       0.666667        0              0   \n",
      "43           0.613833  0.617263            0.0        0              0   \n",
      "44           0.662300  0.674752       0.666667        1              0   \n",
      "45           0.299233  0.601336       0.666667        1              0   \n",
      "46           0.393800  0.633942       0.333333        1              0   \n",
      "47           0.294233  0.599946      -0.333333        1              0   \n",
      "48           0.307033  0.623963      -0.333333        0              0   \n",
      "49           0.358067  0.597084      -0.333333        0              0   \n",
      "\n",
      "    Govt_job  children  \n",
      "0          0         0  \n",
      "1          0         0  \n",
      "2          0         0  \n",
      "3          1         0  \n",
      "4          0         0  \n",
      "5          0         0  \n",
      "6          0         0  \n",
      "7          0         0  \n",
      "8          0         0  \n",
      "9          0         0  \n",
      "10         1         0  \n",
      "11         0         0  \n",
      "12         0         0  \n",
      "13         1         0  \n",
      "14         0         0  \n",
      "15         0         0  \n",
      "16         0         0  \n",
      "17         0         0  \n",
      "18         0         0  \n",
      "19         0         0  \n",
      "20         0         0  \n",
      "21         1         0  \n",
      "22         0         0  \n",
      "23         0         0  \n",
      "24         0         0  \n",
      "25         0         0  \n",
      "26         0         0  \n",
      "27         0         1  \n",
      "28         0         0  \n",
      "29         0         0  \n",
      "30         0         0  \n",
      "31         0         0  \n",
      "32         1         0  \n",
      "33         0         0  \n",
      "34         0         0  \n",
      "35         0         0  \n",
      "36         0         0  \n",
      "37         0         0  \n",
      "38         0         0  \n",
      "39         0         0  \n",
      "40         0         0  \n",
      "41         0         0  \n",
      "42         1         0  \n",
      "43         1         0  \n",
      "44         0         0  \n",
      "45         0         0  \n",
      "46         0         0  \n",
      "47         0         0  \n",
      "48         1         0  \n",
      "49         1         0  \n"
     ]
    }
   ],
   "source": [
    "print(dftrain.head(50))\n",
    "print(dfeval.head(50))"
   ]
  },
  {
   "cell_type": "code",
   "execution_count": 7,
   "id": "0d2733d1",
   "metadata": {
    "execution": {
     "iopub.execute_input": "2022-08-20T16:23:47.350104Z",
     "iopub.status.busy": "2022-08-20T16:23:47.349615Z",
     "iopub.status.idle": "2022-08-20T16:23:47.363646Z",
     "shell.execute_reply": "2022-08-20T16:23:47.361672Z"
    },
    "papermill": {
     "duration": 0.025982,
     "end_time": "2022-08-20T16:23:47.366271",
     "exception": false,
     "start_time": "2022-08-20T16:23:47.340289",
     "status": "completed"
    },
    "tags": []
   },
   "outputs": [
    {
     "name": "stdout",
     "output_type": "stream",
     "text": [
      "(1, 4981)\n"
     ]
    }
   ],
   "source": [
    "train=dftrain.to_numpy()\n",
    "evaluate=dfeval.to_numpy()\n",
    "y_train=y_train.to_numpy().reshape((1,train.shape[0]))\n",
    "y_eval=y_eval.to_numpy()\n",
    "print(y_train.shape)"
   ]
  },
  {
   "cell_type": "code",
   "execution_count": 8,
   "id": "10a5c7e6",
   "metadata": {
    "execution": {
     "iopub.execute_input": "2022-08-20T16:23:47.381458Z",
     "iopub.status.busy": "2022-08-20T16:23:47.381021Z",
     "iopub.status.idle": "2022-08-20T16:23:47.387009Z",
     "shell.execute_reply": "2022-08-20T16:23:47.385881Z"
    },
    "papermill": {
     "duration": 0.017092,
     "end_time": "2022-08-20T16:23:47.389905",
     "exception": false,
     "start_time": "2022-08-20T16:23:47.372813",
     "status": "completed"
    },
    "tags": []
   },
   "outputs": [
    {
     "name": "stdout",
     "output_type": "stream",
     "text": [
      "[[0 0.35 0 ... 0 0 0]\n",
      " [0 0.06 0 ... 0 0 1]\n",
      " [0 0.61 0 ... 0 0 0]\n",
      " ...\n",
      " [1 0.18 0 ... 0 0 0]\n",
      " [1 0.71 0 ... 0 0 0]\n",
      " [1 0.38 0 ... 0 0 0]]\n"
     ]
    }
   ],
   "source": [
    "print(train)"
   ]
  },
  {
   "cell_type": "code",
   "execution_count": 9,
   "id": "da32d612",
   "metadata": {
    "execution": {
     "iopub.execute_input": "2022-08-20T16:23:47.404048Z",
     "iopub.status.busy": "2022-08-20T16:23:47.403640Z",
     "iopub.status.idle": "2022-08-20T16:23:47.412989Z",
     "shell.execute_reply": "2022-08-20T16:23:47.411817Z"
    },
    "papermill": {
     "duration": 0.019133,
     "end_time": "2022-08-20T16:23:47.415294",
     "exception": false,
     "start_time": "2022-08-20T16:23:47.396161",
     "status": "completed"
    },
    "tags": []
   },
   "outputs": [],
   "source": [
    "X=train.T\n",
    "X=np.array(X,dtype=np.float64)\n",
    "X_eval=evaluate.T\n",
    "X_eval=np.array(X_eval,dtype=np.float64)"
   ]
  },
  {
   "cell_type": "code",
   "execution_count": 10,
   "id": "c71625e2",
   "metadata": {
    "execution": {
     "iopub.execute_input": "2022-08-20T16:23:47.430078Z",
     "iopub.status.busy": "2022-08-20T16:23:47.428975Z",
     "iopub.status.idle": "2022-08-20T16:23:47.435189Z",
     "shell.execute_reply": "2022-08-20T16:23:47.434265Z"
    },
    "papermill": {
     "duration": 0.015929,
     "end_time": "2022-08-20T16:23:47.437505",
     "exception": false,
     "start_time": "2022-08-20T16:23:47.421576",
     "status": "completed"
    },
    "tags": []
   },
   "outputs": [],
   "source": [
    "m=X.shape[1]\n",
    "n_x=X.shape[0]"
   ]
  },
  {
   "cell_type": "code",
   "execution_count": 11,
   "id": "c654d633",
   "metadata": {
    "execution": {
     "iopub.execute_input": "2022-08-20T16:23:47.452534Z",
     "iopub.status.busy": "2022-08-20T16:23:47.452125Z",
     "iopub.status.idle": "2022-08-20T16:23:47.457482Z",
     "shell.execute_reply": "2022-08-20T16:23:47.456341Z"
    },
    "papermill": {
     "duration": 0.015858,
     "end_time": "2022-08-20T16:23:47.460051",
     "exception": false,
     "start_time": "2022-08-20T16:23:47.444193",
     "status": "completed"
    },
    "tags": []
   },
   "outputs": [
    {
     "name": "stdout",
     "output_type": "stream",
     "text": [
      "4981\n"
     ]
    }
   ],
   "source": [
    "print(m)"
   ]
  },
  {
   "cell_type": "code",
   "execution_count": 12,
   "id": "26afb671",
   "metadata": {
    "execution": {
     "iopub.execute_input": "2022-08-20T16:23:47.474996Z",
     "iopub.status.busy": "2022-08-20T16:23:47.474572Z",
     "iopub.status.idle": "2022-08-20T16:23:47.479984Z",
     "shell.execute_reply": "2022-08-20T16:23:47.478739Z"
    },
    "papermill": {
     "duration": 0.015595,
     "end_time": "2022-08-20T16:23:47.482315",
     "exception": false,
     "start_time": "2022-08-20T16:23:47.466720",
     "status": "completed"
    },
    "tags": []
   },
   "outputs": [],
   "source": [
    "W=np.random.randn(1,n_x)*0.01\n",
    "b=np.zeros((1,1))"
   ]
  },
  {
   "cell_type": "code",
   "execution_count": 13,
   "id": "523b9e47",
   "metadata": {
    "execution": {
     "iopub.execute_input": "2022-08-20T16:23:47.497310Z",
     "iopub.status.busy": "2022-08-20T16:23:47.496548Z",
     "iopub.status.idle": "2022-08-20T16:23:47.503121Z",
     "shell.execute_reply": "2022-08-20T16:23:47.501755Z"
    },
    "papermill": {
     "duration": 0.017123,
     "end_time": "2022-08-20T16:23:47.505797",
     "exception": false,
     "start_time": "2022-08-20T16:23:47.488674",
     "status": "completed"
    },
    "tags": []
   },
   "outputs": [
    {
     "name": "stdout",
     "output_type": "stream",
     "text": [
      "[[-5.00574052e-03  5.99170643e-03 -8.40536168e-03  8.17318479e-03\n",
      "  -1.96485066e-05  7.48338967e-03 -9.50797108e-03  3.32632994e-03\n",
      "   5.62643397e-03  1.10840625e-02 -1.56292975e-03  1.36017064e-03\n",
      "  -1.82453833e-02]]\n",
      "[[0.]]\n"
     ]
    }
   ],
   "source": [
    "print(W)\n",
    "print(b)"
   ]
  },
  {
   "cell_type": "code",
   "execution_count": 14,
   "id": "655c79a6",
   "metadata": {
    "execution": {
     "iopub.execute_input": "2022-08-20T16:23:47.520781Z",
     "iopub.status.busy": "2022-08-20T16:23:47.519890Z",
     "iopub.status.idle": "2022-08-20T16:23:47.524807Z",
     "shell.execute_reply": "2022-08-20T16:23:47.523813Z"
    },
    "papermill": {
     "duration": 0.014983,
     "end_time": "2022-08-20T16:23:47.527138",
     "exception": false,
     "start_time": "2022-08-20T16:23:47.512155",
     "status": "completed"
    },
    "tags": []
   },
   "outputs": [],
   "source": [
    "def sigmoid(z):\n",
    "    return 1/(1+np.exp(-z))"
   ]
  },
  {
   "cell_type": "code",
   "execution_count": 15,
   "id": "770044d2",
   "metadata": {
    "execution": {
     "iopub.execute_input": "2022-08-20T16:23:47.542133Z",
     "iopub.status.busy": "2022-08-20T16:23:47.541354Z",
     "iopub.status.idle": "2022-08-20T16:23:47.548175Z",
     "shell.execute_reply": "2022-08-20T16:23:47.547325Z"
    },
    "papermill": {
     "duration": 0.01702,
     "end_time": "2022-08-20T16:23:47.550651",
     "exception": false,
     "start_time": "2022-08-20T16:23:47.533631",
     "status": "completed"
    },
    "tags": []
   },
   "outputs": [],
   "source": [
    "def cost_fn(X,W,b,m,y_train,lamda):\n",
    "    Z=np.dot(W,X)+b\n",
    "    A=sigmoid(Z)\n",
    "    cost=-(np.sum(y_train*np.log(A)+(1-y_train)*np.log(1-A))/m+(lamda/(2*m))*(np.sum(W**2)))/m\n",
    "    dZ=A-y_train\n",
    "    db=np.sum(dZ,axis=1,keepdims=True)/m\n",
    "    dW=np.dot(dZ,X.T)/m\n",
    "    return cost,dW,db"
   ]
  },
  {
   "cell_type": "code",
   "execution_count": 16,
   "id": "2d57eaae",
   "metadata": {
    "execution": {
     "iopub.execute_input": "2022-08-20T16:23:47.565521Z",
     "iopub.status.busy": "2022-08-20T16:23:47.564720Z",
     "iopub.status.idle": "2022-08-20T16:23:47.579403Z",
     "shell.execute_reply": "2022-08-20T16:23:47.577845Z"
    },
    "papermill": {
     "duration": 0.026917,
     "end_time": "2022-08-20T16:23:47.583805",
     "exception": false,
     "start_time": "2022-08-20T16:23:47.556888",
     "status": "completed"
    },
    "tags": []
   },
   "outputs": [
    {
     "name": "stdout",
     "output_type": "stream",
     "text": [
      "(0.00013971911114845988, array([[0.18681088, 0.18436532, 0.03488718, 0.01838372, 0.28696606,\n",
      "        0.22836871, 0.15519414, 0.2560153 , 0.01539394, 0.25939263,\n",
      "        0.06774407, 0.0581751 , 0.0665317 ]]), array([[0.4518435]]))\n"
     ]
    }
   ],
   "source": [
    "print(cost_fn(X,W,b,m,y_train,100))"
   ]
  },
  {
   "cell_type": "code",
   "execution_count": 17,
   "id": "f4e7778e",
   "metadata": {
    "execution": {
     "iopub.execute_input": "2022-08-20T16:23:47.607034Z",
     "iopub.status.busy": "2022-08-20T16:23:47.606447Z",
     "iopub.status.idle": "2022-08-20T16:23:47.637960Z",
     "shell.execute_reply": "2022-08-20T16:23:47.636493Z"
    },
    "papermill": {
     "duration": 0.047274,
     "end_time": "2022-08-20T16:23:47.641515",
     "exception": false,
     "start_time": "2022-08-20T16:23:47.594241",
     "status": "completed"
    },
    "tags": []
   },
   "outputs": [],
   "source": [
    "def descent(X,W,b,m,y_train,itr,lr,lamda,print_cost=False):\n",
    "    for i in range(itr):\n",
    "        cost,dW,db=cost_fn(X,W,b,m,y_train,lamda)\n",
    "        if print_cost and i%500==0:\n",
    "            print(i,cost)\n",
    "        W=W*(1-(lr*lamda)/m)-lr*dW\n",
    "        b=b-lr*db"
   ]
  },
  {
   "cell_type": "code",
   "execution_count": 18,
   "id": "a8a99a93",
   "metadata": {
    "execution": {
     "iopub.execute_input": "2022-08-20T16:23:47.667808Z",
     "iopub.status.busy": "2022-08-20T16:23:47.666345Z",
     "iopub.status.idle": "2022-08-20T16:23:52.996707Z",
     "shell.execute_reply": "2022-08-20T16:23:52.995447Z"
    },
    "papermill": {
     "duration": 5.347536,
     "end_time": "2022-08-20T16:23:53.000618",
     "exception": false,
     "start_time": "2022-08-20T16:23:47.653082",
     "status": "completed"
    },
    "tags": []
   },
   "outputs": [
    {
     "name": "stdout",
     "output_type": "stream",
     "text": [
      "0 0.00013972081925854197\n",
      "500 3.402769143992078e-05\n",
      "1000 3.279993665318316e-05\n",
      "1500 3.226913057252207e-05\n",
      "2000 3.200540577762174e-05\n",
      "2500 3.185890862155026e-05\n",
      "3000 3.17701092138945e-05\n",
      "3500 3.171263456641972e-05\n",
      "4000 3.1673599454955984e-05\n",
      "4500 3.164615186265514e-05\n",
      "5000 3.162637054749196e-05\n",
      "5500 3.161186516997359e-05\n",
      "6000 3.1601099164231674e-05\n",
      "6500 3.159304116399356e-05\n",
      "7000 3.158697490614346e-05\n",
      "7500 3.158238980413149e-05\n",
      "8000 3.157891471596928e-05\n",
      "8500 3.157627598319007e-05\n",
      "9000 3.1574269749945315e-05\n",
      "9500 3.157274305926375e-05\n"
     ]
    }
   ],
   "source": [
    "descent(X,W,b,m,y_train,10000,1,0,True)"
   ]
  },
  {
   "cell_type": "code",
   "execution_count": 19,
   "id": "6fdc5670",
   "metadata": {
    "execution": {
     "iopub.execute_input": "2022-08-20T16:23:53.029348Z",
     "iopub.status.busy": "2022-08-20T16:23:53.028665Z",
     "iopub.status.idle": "2022-08-20T16:23:53.041612Z",
     "shell.execute_reply": "2022-08-20T16:23:53.040384Z"
    },
    "papermill": {
     "duration": 0.031863,
     "end_time": "2022-08-20T16:23:53.045346",
     "exception": false,
     "start_time": "2022-08-20T16:23:53.013483",
     "status": "completed"
    },
    "tags": []
   },
   "outputs": [],
   "source": [
    "def predict(X,W,b,y_test):\n",
    "    print(y_test)\n",
    "    m=X.shape[1]\n",
    "    Z=np.dot(W,X)+b\n",
    "    A=sigmoid(Z)\n",
    "    print(A)\n",
    "    predict=np.zeros(m)\n",
    "    t=f=0\n",
    "    for i in range(m):\n",
    "        if(A[0][i]>0.5):\n",
    "            predict[i]=1\n",
    "        if(predict[i]==y_test[i]):\n",
    "            t+=1\n",
    "        else:\n",
    "            f+=1\n",
    "    print(predict)\n",
    "    print(t,f)\n",
    "    return t,f"
   ]
  },
  {
   "cell_type": "code",
   "execution_count": 20,
   "id": "f6de7165",
   "metadata": {
    "execution": {
     "iopub.execute_input": "2022-08-20T16:23:53.071705Z",
     "iopub.status.busy": "2022-08-20T16:23:53.071157Z",
     "iopub.status.idle": "2022-08-20T16:23:53.092799Z",
     "shell.execute_reply": "2022-08-20T16:23:53.091439Z"
    },
    "papermill": {
     "duration": 0.0391,
     "end_time": "2022-08-20T16:23:53.096639",
     "exception": false,
     "start_time": "2022-08-20T16:23:53.057539",
     "status": "completed"
    },
    "tags": []
   },
   "outputs": [
    {
     "name": "stdout",
     "output_type": "stream",
     "text": [
      "[1 1 1 1 1 1 1 1 1 1 1 1 1 1 1 1 1 1 1 1 1 1 1 1 1 1 1 1 1 1 1 1 1 1 1 1 1\n",
      " 1 1 1 0 0 0 0 0 0 0 0 0 0 0 0 0 0 0 0 0 0 0 0 0 0 0 0 0 0 0 0 0 0 0 0 0 0\n",
      " 0 0 0 0 0 0 0 0 0 0 0 0 0 0 0 0 0 0 0 0 0 0 0 0 0 0 0 0 0 0 0 0 0 0 0 0 0\n",
      " 0 0 0 0 0 0 0 0 0 0 0 0 0 0 0 0 0 0 0 0 0 0 0 0 0 0 0 0 0 0 0 0 0 0 0 0 0\n",
      " 0 0 0 0 0 0 0 0 0 0 0 0 0 0 0 0 0 0 0 0 0 0 0 0 0 0 0 0 0 0 0 0 0 0 0 0 0\n",
      " 0 0 0 0 0 0 0 0 0 0 0 0 0 0 0 0]\n",
      "[[0.49897187 0.50354945 0.5053657  0.50269884 0.50140118 0.50174621\n",
      "  0.50582868 0.50424791 0.50553958 0.50280926 0.50164122 0.50362652\n",
      "  0.50415012 0.50191159 0.50412925 0.50214719 0.50418909 0.50504206\n",
      "  0.5027084  0.50450714 0.49950761 0.50330118 0.50349699 0.50161611\n",
      "  0.5030703  0.5062497  0.50726317 0.49708308 0.50001806 0.49938868\n",
      "  0.50026119 0.50121139 0.50298124 0.50561775 0.50522753 0.50271062\n",
      "  0.50364763 0.50243671 0.49897621 0.49713112 0.50605899 0.49893301\n",
      "  0.50208177 0.5009225  0.50014678 0.50284033 0.50144866 0.50567295\n",
      "  0.49863775 0.50015577 0.49701816 0.50385668 0.50452508 0.50233674\n",
      "  0.50276637 0.50350464 0.5040936  0.50425904 0.50299436 0.49807899\n",
      "  0.4960598  0.49703866 0.49703783 0.5015838  0.50208184 0.50101091\n",
      "  0.49614597 0.50098167 0.50453543 0.50075297 0.5031878  0.50393277\n",
      "  0.50027274 0.50265848 0.50182279 0.49988729 0.49885167 0.49579028\n",
      "  0.50464022 0.50323253 0.50453664 0.49661559 0.50087762 0.50641169\n",
      "  0.50537573 0.50440332 0.5018419  0.50401291 0.50398816 0.50384224\n",
      "  0.50337726 0.50230474 0.50104531 0.50160113 0.50014972 0.50267415\n",
      "  0.50017296 0.5033861  0.50223731 0.49435184 0.50169442 0.50488501\n",
      "  0.50366914 0.5050956  0.50310123 0.49578449 0.50239006 0.50238937\n",
      "  0.50385687 0.49968406 0.5042724  0.50561581 0.50305742 0.50190523\n",
      "  0.49886593 0.49912321 0.50028885 0.49960948 0.50290809 0.50287165\n",
      "  0.50105948 0.5042087  0.50542863 0.50407641 0.50176952 0.50012717\n",
      "  0.4949969  0.50310715 0.49920852 0.50081433 0.5045691  0.50207779\n",
      "  0.50042847 0.50243496 0.501849   0.50258419 0.50609817 0.50137905\n",
      "  0.50585202 0.50015617 0.50244029 0.50116799 0.50498155 0.49881719\n",
      "  0.50612027 0.50152562 0.49993368 0.50311539 0.49906203 0.50642318\n",
      "  0.50286772 0.49812869 0.50220682 0.50280628 0.4975151  0.50370873\n",
      "  0.50589964 0.50270853 0.50314779 0.50151864 0.50010996 0.49339136\n",
      "  0.50454019 0.50461386 0.50376626 0.49392604 0.49585133 0.49431868\n",
      "  0.50202936 0.50128425 0.49986208 0.5037341  0.49587708 0.50538725\n",
      "  0.49797099 0.50611919 0.50441309 0.50299776 0.4998317  0.50506977\n",
      "  0.50361681 0.49685746 0.49302417 0.49998177 0.50396026 0.49830305\n",
      "  0.50628515 0.50305285 0.50228972 0.50265214 0.5041111  0.50265235\n",
      "  0.50419678 0.49367204 0.50118373 0.50363261 0.50254166 0.50392545\n",
      "  0.49962158 0.5028846  0.5030854 ]]\n",
      "[0. 1. 1. 1. 1. 1. 1. 1. 1. 1. 1. 1. 1. 1. 1. 1. 1. 1. 1. 1. 0. 1. 1. 1.\n",
      " 1. 1. 1. 0. 1. 0. 1. 1. 1. 1. 1. 1. 1. 1. 0. 0. 1. 0. 1. 1. 1. 1. 1. 1.\n",
      " 0. 1. 0. 1. 1. 1. 1. 1. 1. 1. 1. 0. 0. 0. 0. 1. 1. 1. 0. 1. 1. 1. 1. 1.\n",
      " 1. 1. 1. 0. 0. 0. 1. 1. 1. 0. 1. 1. 1. 1. 1. 1. 1. 1. 1. 1. 1. 1. 1. 1.\n",
      " 1. 1. 1. 0. 1. 1. 1. 1. 1. 0. 1. 1. 1. 0. 1. 1. 1. 1. 0. 0. 1. 0. 1. 1.\n",
      " 1. 1. 1. 1. 1. 1. 0. 1. 0. 1. 1. 1. 1. 1. 1. 1. 1. 1. 1. 1. 1. 1. 1. 0.\n",
      " 1. 1. 0. 1. 0. 1. 1. 0. 1. 1. 0. 1. 1. 1. 1. 1. 1. 0. 1. 1. 1. 0. 0. 0.\n",
      " 1. 1. 0. 1. 0. 1. 0. 1. 1. 1. 0. 1. 1. 0. 0. 0. 1. 0. 1. 1. 1. 1. 1. 1.\n",
      " 1. 0. 1. 1. 1. 1. 0. 1. 1.]\n",
      "73 128\n",
      "[[-5.00574052e-03  5.99170643e-03 -8.40536168e-03  8.17318479e-03\n",
      "  -1.96485066e-05  7.48338967e-03 -9.50797108e-03  3.32632994e-03\n",
      "   5.62643397e-03  1.10840625e-02 -1.56292975e-03  1.36017064e-03\n",
      "  -1.82453833e-02]]\n",
      "accuracy: 36.318407960199 %\n"
     ]
    }
   ],
   "source": [
    "t,f=predict(X_eval,W,b,y_eval)\n",
    "print(W)\n",
    "print(\"accuracy:\",(t*100)/(t+f),\"%\")"
   ]
  }
 ],
 "metadata": {
  "kernelspec": {
   "display_name": "Python 3",
   "language": "python",
   "name": "python3"
  },
  "language_info": {
   "codemirror_mode": {
    "name": "ipython",
    "version": 3
   },
   "file_extension": ".py",
   "mimetype": "text/x-python",
   "name": "python",
   "nbconvert_exporter": "python",
   "pygments_lexer": "ipython3",
   "version": "3.7.12"
  },
  "papermill": {
   "default_parameters": {},
   "duration": 16.44872,
   "end_time": "2022-08-20T16:23:53.734543",
   "environment_variables": {},
   "exception": null,
   "input_path": "__notebook__.ipynb",
   "output_path": "__notebook__.ipynb",
   "parameters": {},
   "start_time": "2022-08-20T16:23:37.285823",
   "version": "2.3.4"
  }
 },
 "nbformat": 4,
 "nbformat_minor": 5
}
