{
 "cells": [
  {
   "cell_type": "code",
   "execution_count": 1,
   "id": "370dbb27",
   "metadata": {
    "_cell_guid": "b1076dfc-b9ad-4769-8c92-a6c4dae69d19",
    "_uuid": "8f2839f25d086af736a60e9eeb907d3b93b6e0e5",
    "execution": {
     "iopub.execute_input": "2022-08-24T13:40:50.515890Z",
     "iopub.status.busy": "2022-08-24T13:40:50.515334Z",
     "iopub.status.idle": "2022-08-24T13:40:50.534246Z",
     "shell.execute_reply": "2022-08-24T13:40:50.533558Z"
    },
    "papermill": {
     "duration": 0.027543,
     "end_time": "2022-08-24T13:40:50.536692",
     "exception": false,
     "start_time": "2022-08-24T13:40:50.509149",
     "status": "completed"
    },
    "tags": []
   },
   "outputs": [
    {
     "name": "stdout",
     "output_type": "stream",
     "text": [
      "/kaggle/input/full-filled-brain-stroke-dataset/full_data.csv\n",
      "/kaggle/input/full-filled-brain-stroke-dataset/full_filled_stroke_data (1).csv\n"
     ]
    }
   ],
   "source": [
    "# This Python 3 environment comes with many helpful analytics libraries installed\n",
    "# It is defined by the kaggle/python Docker image: https://github.com/kaggle/docker-python\n",
    "# For example, here's several helpful packages to load\n",
    "\n",
    "import numpy as np # linear algebra\n",
    "import pandas as pd # data processing, CSV file I/O (e.g. pd.read_csv)\n",
    "\n",
    "# Input data files are available in the read-only \"../input/\" directory\n",
    "# For example, running this (by clicking run or pressing Shift+Enter) will list all files under the input directory\n",
    "\n",
    "import os\n",
    "for dirname, _, filenames in os.walk('/kaggle/input'):\n",
    "    for filename in filenames:\n",
    "        print(os.path.join(dirname, filename))\n",
    "\n",
    "# You can write up to 20GB to the current directory (/kaggle/working/) that gets preserved as output when you create a version using \"Save & Run All\" \n",
    "# You can also write temporary files to /kaggle/temp/, but they won't be saved outside of the current session"
   ]
  },
  {
   "cell_type": "code",
   "execution_count": 2,
   "id": "4bd8282c",
   "metadata": {
    "execution": {
     "iopub.execute_input": "2022-08-24T13:40:50.545209Z",
     "iopub.status.busy": "2022-08-24T13:40:50.544417Z",
     "iopub.status.idle": "2022-08-24T13:40:56.109295Z",
     "shell.execute_reply": "2022-08-24T13:40:56.108336Z"
    },
    "papermill": {
     "duration": 5.571434,
     "end_time": "2022-08-24T13:40:56.111731",
     "exception": false,
     "start_time": "2022-08-24T13:40:50.540297",
     "status": "completed"
    },
    "tags": []
   },
   "outputs": [],
   "source": [
    "from __future__ import absolute_import,division,print_function,unicode_literals\n",
    "\n",
    "import tensorflow as tf"
   ]
  },
  {
   "cell_type": "code",
   "execution_count": 3,
   "id": "185e3c7c",
   "metadata": {
    "execution": {
     "iopub.execute_input": "2022-08-24T13:40:56.120805Z",
     "iopub.status.busy": "2022-08-24T13:40:56.119750Z",
     "iopub.status.idle": "2022-08-24T13:40:56.124839Z",
     "shell.execute_reply": "2022-08-24T13:40:56.124049Z"
    },
    "papermill": {
     "duration": 0.011387,
     "end_time": "2022-08-24T13:40:56.126703",
     "exception": false,
     "start_time": "2022-08-24T13:40:56.115316",
     "status": "completed"
    },
    "tags": []
   },
   "outputs": [],
   "source": [
    "features=['gender','age','hypertension','heart_disease','ever_married','work_type','Residence_type','avg_glucose_level','bmi','smoking_status','stroke']"
   ]
  },
  {
   "cell_type": "code",
   "execution_count": 4,
   "id": "1b4b3ab6",
   "metadata": {
    "execution": {
     "iopub.execute_input": "2022-08-24T13:40:56.134531Z",
     "iopub.status.busy": "2022-08-24T13:40:56.133719Z",
     "iopub.status.idle": "2022-08-24T13:40:56.166572Z",
     "shell.execute_reply": "2022-08-24T13:40:56.165409Z"
    },
    "papermill": {
     "duration": 0.039513,
     "end_time": "2022-08-24T13:40:56.169275",
     "exception": false,
     "start_time": "2022-08-24T13:40:56.129762",
     "status": "completed"
    },
    "tags": []
   },
   "outputs": [],
   "source": [
    "train=pd.read_csv('/kaggle/input/full-filled-brain-stroke-dataset/full_data.csv',names=features,header=0)\n",
    "test=pd.read_csv('/kaggle/input/full-filled-brain-stroke-dataset/full_filled_stroke_data (1).csv',names=features,header=0)"
   ]
  },
  {
   "cell_type": "code",
   "execution_count": 5,
   "id": "eda2329f",
   "metadata": {
    "execution": {
     "iopub.execute_input": "2022-08-24T13:40:56.177282Z",
     "iopub.status.busy": "2022-08-24T13:40:56.176891Z",
     "iopub.status.idle": "2022-08-24T13:40:56.210084Z",
     "shell.execute_reply": "2022-08-24T13:40:56.209206Z"
    },
    "papermill": {
     "duration": 0.0393,
     "end_time": "2022-08-24T13:40:56.212014",
     "exception": false,
     "start_time": "2022-08-24T13:40:56.172714",
     "status": "completed"
    },
    "tags": []
   },
   "outputs": [],
   "source": [
    "train['gender']=train['gender'].replace(['Male','Female'],[1,0])\n",
    "train['ever_married']=train['ever_married'].replace(['Yes','No'],[1,0])\n",
    "train['work_type']=train['work_type'].replace(['Private','Self-employed','Govt_job','children'],[0,1,2,3])\n",
    "train['Residence_type']=train['Residence_type'].replace(['Urban','Rural'],[1,0])\n",
    "train['smoking_status']=train['smoking_status'].replace(['formerly smoked','never smoked','smokes','Unknown'],[0,1,2,3])\n",
    "test['gender']=test['gender'].replace(['Male','Female'],[1,0])\n",
    "test['ever_married']=test['ever_married'].replace(['Yes','No'],[1,0])\n",
    "test['work_type']=test['work_type'].replace(['Private','Self-employed','Govt_job','children'],[0,1,2,3])\n",
    "test['Residence_type']=test['Residence_type'].replace(['Urban','Rural'],[1,0])\n",
    "test['smoking_status']=test['smoking_status'].replace(['formerly smoked','never smoked','smokes','Unknown'],[0,1,2,3])"
   ]
  },
  {
   "cell_type": "code",
   "execution_count": 6,
   "id": "6b14a187",
   "metadata": {
    "execution": {
     "iopub.execute_input": "2022-08-24T13:40:56.219999Z",
     "iopub.status.busy": "2022-08-24T13:40:56.219468Z",
     "iopub.status.idle": "2022-08-24T13:40:56.227580Z",
     "shell.execute_reply": "2022-08-24T13:40:56.226728Z"
    },
    "papermill": {
     "duration": 0.01421,
     "end_time": "2022-08-24T13:40:56.229456",
     "exception": false,
     "start_time": "2022-08-24T13:40:56.215246",
     "status": "completed"
    },
    "tags": []
   },
   "outputs": [],
   "source": [
    "train_y=train.pop('stroke')\n",
    "test_y=test.pop('stroke')"
   ]
  },
  {
   "cell_type": "code",
   "execution_count": 7,
   "id": "fd161db6",
   "metadata": {
    "execution": {
     "iopub.execute_input": "2022-08-24T13:40:56.237302Z",
     "iopub.status.busy": "2022-08-24T13:40:56.236943Z",
     "iopub.status.idle": "2022-08-24T13:40:56.242429Z",
     "shell.execute_reply": "2022-08-24T13:40:56.241496Z"
    },
    "papermill": {
     "duration": 0.011847,
     "end_time": "2022-08-24T13:40:56.244644",
     "exception": false,
     "start_time": "2022-08-24T13:40:56.232797",
     "status": "completed"
    },
    "tags": []
   },
   "outputs": [],
   "source": [
    "def input_fn(features,labels,training=True,batch_size=256):\n",
    "    dataset=tf.data.Dataset.from_tensor_slices((dict(features),labels))\n",
    "    if training:\n",
    "        dataset=dataset.shuffle(1000).repeat()\n",
    "    \n",
    "    return dataset.batch(batch_size)"
   ]
  },
  {
   "cell_type": "code",
   "execution_count": 8,
   "id": "9a3b30e7",
   "metadata": {
    "execution": {
     "iopub.execute_input": "2022-08-24T13:40:56.252510Z",
     "iopub.status.busy": "2022-08-24T13:40:56.252142Z",
     "iopub.status.idle": "2022-08-24T13:40:56.256501Z",
     "shell.execute_reply": "2022-08-24T13:40:56.255610Z"
    },
    "papermill": {
     "duration": 0.010425,
     "end_time": "2022-08-24T13:40:56.258292",
     "exception": false,
     "start_time": "2022-08-24T13:40:56.247867",
     "status": "completed"
    },
    "tags": []
   },
   "outputs": [],
   "source": [
    "my_feature_column=[]\n",
    "for key in train.keys():\n",
    "    my_feature_column.append(tf.feature_column.numeric_column(key=key))"
   ]
  },
  {
   "cell_type": "code",
   "execution_count": 9,
   "id": "85747bae",
   "metadata": {
    "execution": {
     "iopub.execute_input": "2022-08-24T13:40:56.266020Z",
     "iopub.status.busy": "2022-08-24T13:40:56.265407Z",
     "iopub.status.idle": "2022-08-24T13:40:57.566752Z",
     "shell.execute_reply": "2022-08-24T13:40:57.565742Z"
    },
    "papermill": {
     "duration": 1.307799,
     "end_time": "2022-08-24T13:40:57.569192",
     "exception": false,
     "start_time": "2022-08-24T13:40:56.261393",
     "status": "completed"
    },
    "tags": []
   },
   "outputs": [],
   "source": [
    "classifier=tf.estimator.DNNClassifier(feature_columns=my_feature_column,hidden_units=[30,10],n_classes=2)"
   ]
  },
  {
   "cell_type": "code",
   "execution_count": 10,
   "id": "be781b38",
   "metadata": {
    "execution": {
     "iopub.execute_input": "2022-08-24T13:40:57.577275Z",
     "iopub.status.busy": "2022-08-24T13:40:57.576904Z",
     "iopub.status.idle": "2022-08-24T13:41:19.885706Z",
     "shell.execute_reply": "2022-08-24T13:41:19.884744Z"
    },
    "papermill": {
     "duration": 22.31548,
     "end_time": "2022-08-24T13:41:19.888003",
     "exception": false,
     "start_time": "2022-08-24T13:40:57.572523",
     "status": "completed"
    },
    "tags": []
   },
   "outputs": [
    {
     "name": "stderr",
     "output_type": "stream",
     "text": [
      "2022-08-24 13:40:58.437519: I tensorflow/core/common_runtime/process_util.cc:146] Creating new thread pool with default inter op setting: 2. Tune using inter_op_parallelism_threads for best performance.\n"
     ]
    },
    {
     "data": {
      "text/plain": [
       "<tensorflow_estimator.python.estimator.canned.dnn.DNNClassifierV2 at 0x7f7ba491aed0>"
      ]
     },
     "execution_count": 10,
     "metadata": {},
     "output_type": "execute_result"
    }
   ],
   "source": [
    "classifier.train(input_fn=lambda: input_fn(train,train_y,training=True),steps=5000)"
   ]
  },
  {
   "cell_type": "code",
   "execution_count": 11,
   "id": "0cc66009",
   "metadata": {
    "execution": {
     "iopub.execute_input": "2022-08-24T13:41:19.896411Z",
     "iopub.status.busy": "2022-08-24T13:41:19.895710Z",
     "iopub.status.idle": "2022-08-24T13:41:21.441741Z",
     "shell.execute_reply": "2022-08-24T13:41:21.440514Z"
    },
    "papermill": {
     "duration": 1.553447,
     "end_time": "2022-08-24T13:41:21.444893",
     "exception": false,
     "start_time": "2022-08-24T13:41:19.891446",
     "status": "completed"
    },
    "tags": []
   },
   "outputs": [
    {
     "name": "stdout",
     "output_type": "stream",
     "text": [
      "\n",
      "Test set accuracy: 0.801\n",
      "\n"
     ]
    }
   ],
   "source": [
    "result=classifier.evaluate(input_fn=lambda: input_fn(test,test_y,training=False))\n",
    "print('\\nTest set accuracy: {accuracy:0.3f}\\n'.format(**result))"
   ]
  }
 ],
 "metadata": {
  "kernelspec": {
   "display_name": "Python 3",
   "language": "python",
   "name": "python3"
  },
  "language_info": {
   "codemirror_mode": {
    "name": "ipython",
    "version": 3
   },
   "file_extension": ".py",
   "mimetype": "text/x-python",
   "name": "python",
   "nbconvert_exporter": "python",
   "pygments_lexer": "ipython3",
   "version": "3.7.12"
  },
  "papermill": {
   "default_parameters": {},
   "duration": 42.009359,
   "end_time": "2022-08-24T13:41:24.180451",
   "environment_variables": {},
   "exception": null,
   "input_path": "__notebook__.ipynb",
   "output_path": "__notebook__.ipynb",
   "parameters": {},
   "start_time": "2022-08-24T13:40:42.171092",
   "version": "2.3.4"
  }
 },
 "nbformat": 4,
 "nbformat_minor": 5
}
