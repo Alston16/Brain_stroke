{
 "cells": [
  {
   "cell_type": "code",
   "execution_count": 1,
   "id": "2a3680eb",
   "metadata": {
    "_cell_guid": "b1076dfc-b9ad-4769-8c92-a6c4dae69d19",
    "_uuid": "8f2839f25d086af736a60e9eeb907d3b93b6e0e5",
    "execution": {
     "iopub.execute_input": "2022-08-15T11:30:31.363221Z",
     "iopub.status.busy": "2022-08-15T11:30:31.362528Z",
     "iopub.status.idle": "2022-08-15T11:30:31.386225Z",
     "shell.execute_reply": "2022-08-15T11:30:31.384860Z"
    },
    "papermill": {
     "duration": 0.033327,
     "end_time": "2022-08-15T11:30:31.389603",
     "exception": false,
     "start_time": "2022-08-15T11:30:31.356276",
     "status": "completed"
    },
    "tags": []
   },
   "outputs": [
    {
     "name": "stdout",
     "output_type": "stream",
     "text": [
      "/kaggle/input/full-filled-brain-stroke-dataset/full_data.csv\n",
      "/kaggle/input/full-filled-brain-stroke-dataset/full_filled_stroke_data (1).csv\n"
     ]
    }
   ],
   "source": [
    "# This Python 3 environment comes with many helpful analytics libraries installed\n",
    "# It is defined by the kaggle/python Docker image: https://github.com/kaggle/docker-python\n",
    "# For example, here's several helpful packages to load\n",
    "\n",
    "import numpy as np # linear algebra\n",
    "import pandas as pd # data processing, CSV file I/O (e.g. pd.read_csv)\n",
    "\n",
    "# Input data files are available in the read-only \"../input/\" directory\n",
    "# For example, running this (by clicking run or pressing Shift+Enter) will list all files under the input directory\n",
    "\n",
    "import os\n",
    "for dirname, _, filenames in os.walk('/kaggle/input'):\n",
    "    for filename in filenames:\n",
    "        print(os.path.join(dirname, filename))\n",
    "\n",
    "# You can write up to 20GB to the current directory (/kaggle/working/) that gets preserved as output when you create a version using \"Save & Run All\" \n",
    "# You can also write temporary files to /kaggle/temp/, but they won't be saved outside of the current session"
   ]
  },
  {
   "cell_type": "code",
   "execution_count": 2,
   "id": "5e2073b4",
   "metadata": {
    "execution": {
     "iopub.execute_input": "2022-08-15T11:30:31.398725Z",
     "iopub.status.busy": "2022-08-15T11:30:31.398332Z",
     "iopub.status.idle": "2022-08-15T11:30:31.438747Z",
     "shell.execute_reply": "2022-08-15T11:30:31.437853Z"
    },
    "papermill": {
     "duration": 0.047911,
     "end_time": "2022-08-15T11:30:31.441356",
     "exception": false,
     "start_time": "2022-08-15T11:30:31.393445",
     "status": "completed"
    },
    "tags": []
   },
   "outputs": [],
   "source": [
    "dftrain=pd.read_csv('/kaggle/input/full-filled-brain-stroke-dataset/full_data.csv')\n",
    "dfeval=pd.read_csv('/kaggle/input/full-filled-brain-stroke-dataset/full_filled_stroke_data (1).csv')"
   ]
  },
  {
   "cell_type": "code",
   "execution_count": 3,
   "id": "51fcd29f",
   "metadata": {
    "execution": {
     "iopub.execute_input": "2022-08-15T11:30:31.449870Z",
     "iopub.status.busy": "2022-08-15T11:30:31.449436Z",
     "iopub.status.idle": "2022-08-15T11:30:31.464261Z",
     "shell.execute_reply": "2022-08-15T11:30:31.463067Z"
    },
    "papermill": {
     "duration": 0.022516,
     "end_time": "2022-08-15T11:30:31.467247",
     "exception": false,
     "start_time": "2022-08-15T11:30:31.444731",
     "status": "completed"
    },
    "tags": []
   },
   "outputs": [
    {
     "name": "stdout",
     "output_type": "stream",
     "text": [
      "   gender   age  hypertension  heart_disease ever_married      work_type  \\\n",
      "0    Male  67.0             0              1          Yes        Private   \n",
      "1    Male  80.0             0              1          Yes        Private   \n",
      "2  Female  49.0             0              0          Yes        Private   \n",
      "3  Female  79.0             1              0          Yes  Self-employed   \n",
      "4    Male  81.0             0              0          Yes        Private   \n",
      "\n",
      "  Residence_type  avg_glucose_level   bmi   smoking_status  stroke  \n",
      "0          Urban             228.69  36.6  formerly smoked       1  \n",
      "1          Rural             105.92  32.5     never smoked       1  \n",
      "2          Urban             171.23  34.4           smokes       1  \n",
      "3          Rural             174.12  24.0     never smoked       1  \n",
      "4          Urban             186.21  29.0  formerly smoked       1  \n"
     ]
    }
   ],
   "source": [
    "print(dftrain.head())"
   ]
  },
  {
   "cell_type": "code",
   "execution_count": 4,
   "id": "6a4f3a23",
   "metadata": {
    "execution": {
     "iopub.execute_input": "2022-08-15T11:30:31.476728Z",
     "iopub.status.busy": "2022-08-15T11:30:31.476340Z",
     "iopub.status.idle": "2022-08-15T11:30:31.488571Z",
     "shell.execute_reply": "2022-08-15T11:30:31.487091Z"
    },
    "papermill": {
     "duration": 0.019713,
     "end_time": "2022-08-15T11:30:31.491079",
     "exception": false,
     "start_time": "2022-08-15T11:30:31.471366",
     "status": "completed"
    },
    "tags": []
   },
   "outputs": [],
   "source": [
    "y_train=dftrain.pop('stroke')\n",
    "y_eval=dfeval.pop('stroke')"
   ]
  },
  {
   "cell_type": "code",
   "execution_count": 5,
   "id": "76426e9e",
   "metadata": {
    "execution": {
     "iopub.execute_input": "2022-08-15T11:30:31.500572Z",
     "iopub.status.busy": "2022-08-15T11:30:31.499897Z",
     "iopub.status.idle": "2022-08-15T11:30:31.541571Z",
     "shell.execute_reply": "2022-08-15T11:30:31.540272Z"
    },
    "papermill": {
     "duration": 0.049783,
     "end_time": "2022-08-15T11:30:31.544460",
     "exception": false,
     "start_time": "2022-08-15T11:30:31.494677",
     "status": "completed"
    },
    "tags": []
   },
   "outputs": [],
   "source": [
    "dftrain.loc[dftrain['gender']=='Male','gender']=1\n",
    "dftrain.loc[dftrain['gender']=='Female','gender']=0\n",
    "dftrain.loc[dftrain['ever_married']=='Yes','ever_married']=1\n",
    "dftrain.loc[dftrain['ever_married']=='No','ever_married']=0\n",
    "dftrain.loc[dftrain['work_type']=='Private','work_type']=0\n",
    "dftrain.loc[dftrain['work_type']=='Self-employed','work_type']=1\n",
    "dftrain.loc[dftrain['work_type']=='Govt_job','work_type']=2\n",
    "dftrain.loc[dftrain['work_type']=='children','work_type']=3\n",
    "dftrain.loc[dftrain['Residence_type']=='Urban','Residence_type']=1\n",
    "dftrain.loc[dftrain['Residence_type']=='Rural','Residence_type']=0\n",
    "dftrain.loc[dftrain['smoking_status']=='formerly smoked','smoking_status']=0\n",
    "dftrain.loc[dftrain['smoking_status']=='never smoked','smoking_status']=1\n",
    "dftrain.loc[dftrain['smoking_status']=='smokes','smoking_status']=2\n",
    "dftrain.loc[dftrain['smoking_status']=='Unknown','smoking_status']=3\n",
    "dftrain['age']=dftrain['age']/100\n",
    "dftrain['avg_glucose_level']=dftrain['avg_glucose_level']/300\n",
    "dftrain['bmi']=dftrain['bmi']/50\n",
    "dfeval.loc[dfeval['gender']=='Male','gender']=1\n",
    "dfeval.loc[dfeval['gender']=='Female','gender']=0\n",
    "dfeval.loc[dfeval['ever_married']=='Yes','ever_married']=1\n",
    "dfeval.loc[dfeval['ever_married']=='No','ever_married']=0\n",
    "dfeval.loc[dfeval['work_type']=='Private','work_type']=0\n",
    "dfeval.loc[dfeval['work_type']=='Self-employed','work_type']=1\n",
    "dfeval.loc[dfeval['work_type']=='Govt_job','work_type']=2\n",
    "dfeval.loc[dfeval['work_type']=='children','work_type']=3\n",
    "dfeval.loc[dfeval['Residence_type']=='Urban','Residence_type']=1\n",
    "dfeval.loc[dfeval['Residence_type']=='Rural','Residence_type']=0\n",
    "dfeval.loc[dfeval['smoking_status']=='formerly smoked','smoking_status']=0\n",
    "dfeval.loc[dfeval['smoking_status']=='never smoked','smoking_status']=1\n",
    "dfeval.loc[dfeval['smoking_status']=='smokes','smoking_status']=2\n",
    "dfeval.loc[dfeval['smoking_status']=='Unknown','smoking_status']=3\n",
    "dfeval['age']=dfeval['age']/100\n",
    "dfeval['avg_glucose_level']=dfeval['avg_glucose_level']/300\n",
    "dfeval['bmi']=dfeval['bmi']/50"
   ]
  },
  {
   "cell_type": "code",
   "execution_count": 6,
   "id": "508cc72b",
   "metadata": {
    "execution": {
     "iopub.execute_input": "2022-08-15T11:30:31.553021Z",
     "iopub.status.busy": "2022-08-15T11:30:31.552566Z",
     "iopub.status.idle": "2022-08-15T11:30:31.578557Z",
     "shell.execute_reply": "2022-08-15T11:30:31.577299Z"
    },
    "papermill": {
     "duration": 0.035806,
     "end_time": "2022-08-15T11:30:31.583903",
     "exception": false,
     "start_time": "2022-08-15T11:30:31.548097",
     "status": "completed"
    },
    "tags": []
   },
   "outputs": [
    {
     "name": "stdout",
     "output_type": "stream",
     "text": [
      "   gender   age  hypertension  heart_disease ever_married work_type  \\\n",
      "0       1  0.67             0              1            1         0   \n",
      "1       1  0.80             0              1            1         0   \n",
      "2       0  0.49             0              0            1         0   \n",
      "3       0  0.79             1              0            1         1   \n",
      "4       1  0.81             0              0            1         0   \n",
      "5       1  0.74             1              1            1         0   \n",
      "6       0  0.69             0              0            0         0   \n",
      "7       0  0.78             0              0            1         0   \n",
      "8       0  0.81             1              0            1         0   \n",
      "9       0  0.61             0              1            1         2   \n",
      "10      0  0.54             0              0            1         0   \n",
      "11      0  0.79             0              1            1         0   \n",
      "12      0  0.50             1              0            1         1   \n",
      "13      1  0.64             0              1            1         0   \n",
      "14      1  0.75             1              0            1         0   \n",
      "15      0  0.60             0              0            0         0   \n",
      "16      0  0.71             0              0            1         2   \n",
      "17      0  0.52             1              0            1         1   \n",
      "18      0  0.79             0              0            1         1   \n",
      "19      1  0.82             0              1            1         0   \n",
      "20      1  0.71             0              0            1         0   \n",
      "21      1  0.80             0              0            1         1   \n",
      "22      0  0.65             0              0            1         0   \n",
      "23      1  0.69             0              1            1         1   \n",
      "24      1  0.57             1              0            1         0   \n",
      "25      1  0.42             0              0            1         0   \n",
      "26      0  0.82             1              0            1         1   \n",
      "27      1  0.80             0              1            1         1   \n",
      "28      1  0.48             0              0            0         2   \n",
      "29      0  0.82             1              1            0         0   \n",
      "30      1  0.74             0              0            1         0   \n",
      "31      0  0.72             1              0            1         0   \n",
      "32      1  0.58             0              0            0         0   \n",
      "33      0  0.49             0              0            1         0   \n",
      "34      1  0.78             0              0            1         0   \n",
      "35      1  0.54             0              0            1         0   \n",
      "36      1  0.82             0              1            1         0   \n",
      "37      1  0.60             1              0            1         2   \n",
      "38      1  0.76             1              0            1         0   \n",
      "39      0  0.58             0              0            1         0   \n",
      "40      1  0.81             0              0            1         1   \n",
      "41      0  0.39             1              0            1         0   \n",
      "42      0  0.79             0              1            1         0   \n",
      "43      0  0.77             1              0            1         1   \n",
      "44      1  0.63             0              1            1         0   \n",
      "45      0  0.82             0              0            1         0   \n",
      "46      1  0.73             1              0            1         1   \n",
      "47      0  0.54             1              0            1         2   \n",
      "48      0  0.56             0              0            1         0   \n",
      "49      0  0.80             1              0            1         0   \n",
      "\n",
      "   Residence_type  avg_glucose_level    bmi smoking_status  \n",
      "0               1           0.762300  0.732              0  \n",
      "1               0           0.353067  0.650              1  \n",
      "2               1           0.570767  0.688              2  \n",
      "3               0           0.580400  0.480              1  \n",
      "4               1           0.620700  0.580              0  \n",
      "5               0           0.233633  0.548              1  \n",
      "6               1           0.314633  0.456              1  \n",
      "7               1           0.195233  0.484              3  \n",
      "8               0           0.268100  0.594              1  \n",
      "9               0           0.401533  0.736              2  \n",
      "10              1           0.348367  0.546              2  \n",
      "11              1           0.713633  0.564              1  \n",
      "12              0           0.558033  0.618              1  \n",
      "13              1           0.638700  0.750              2  \n",
      "14              1           0.737633  0.516              2  \n",
      "15              1           0.297400  0.756              1  \n",
      "16              0           0.646467  0.448              2  \n",
      "17              1           0.777633  0.978              1  \n",
      "18              1           0.762333  0.532              1  \n",
      "19              0           0.694333  0.650              3  \n",
      "20              1           0.342900  0.544              0  \n",
      "21              0           0.347067  0.470              1  \n",
      "22              0           0.336600  0.564              0  \n",
      "23              1           0.650767  0.566              2  \n",
      "24              1           0.706933  0.884              2  \n",
      "25              0           0.278033  0.508              3  \n",
      "26              1           0.656400  0.444              1  \n",
      "27              1           0.842400  0.610              0  \n",
      "28              1           0.280667  0.594              1  \n",
      "29              0           0.280100  0.530              0  \n",
      "30              0           0.732400  0.674              0  \n",
      "31              0           0.248767  0.462              0  \n",
      "32              0           0.308733  0.640              3  \n",
      "33              1           0.203033  0.598              1  \n",
      "34              0           0.260100  0.478              0  \n",
      "35              1           0.237400  0.570              1  \n",
      "36              1           0.483000  0.528              2  \n",
      "37              1           0.710100  0.404              2  \n",
      "38              0           0.811933  0.672              1  \n",
      "39              1           0.357533  0.772              0  \n",
      "40              1           0.331100  0.674              1  \n",
      "41              0           0.193633  0.784              2  \n",
      "42              0           0.424300  0.554              1  \n",
      "43              1           0.413767  0.628              1  \n",
      "44              0           0.655700  0.730              0  \n",
      "45              0           0.197733  0.664              1  \n",
      "46              1           0.649967  0.656              1  \n",
      "47              1           0.603100  0.554              1  \n",
      "48              1           0.617233  0.808              0  \n",
      "49              0           0.249667  0.444              1  \n",
      "   gender     age  hypertension  heart_disease ever_married work_type  \\\n",
      "0       0  0.6100             0              0            1         1   \n",
      "1       0  0.5900             0              0            1         0   \n",
      "2       1  0.7800             0              1            1         0   \n",
      "3       1  0.5700             0              1            0         2   \n",
      "4       1  0.5800             0              0            1         0   \n",
      "5       1  0.5900             0              0            1         0   \n",
      "6       0  0.6300             0              0            1         0   \n",
      "7       0  0.7500             0              1            0         1   \n",
      "8       0  0.7600             0              0            0         0   \n",
      "9       1  0.7800             1              0            1         0   \n",
      "10      0  0.6300             0              0            1         2   \n",
      "11      1  0.7800             0              0            1         0   \n",
      "12      1  0.7500             0              0            1         0   \n",
      "13      0  0.7600             0              0            1         2   \n",
      "14      0  0.5100             0              0            1         0   \n",
      "15      0  0.6600             0              0            1         1   \n",
      "16      1  0.5800             0              0            1         0   \n",
      "17      1  0.5800             0              0            1         0   \n",
      "18      0  0.7600             0              0            1         1   \n",
      "19      0  0.7200             0              0            1         0   \n",
      "20      1  0.7800             1              0            1         1   \n",
      "21      0  0.7500             0              0            1         2   \n",
      "22      0  0.3800             0              0            1         0   \n",
      "23      1  0.6500             0              0            1         1   \n",
      "24      0  0.7900             0              0            1         0   \n",
      "25      0  0.7600             0              0            1         0   \n",
      "26      1  0.7100             0              1            1         0   \n",
      "27      0  0.0132             0              0            0         3   \n",
      "28      1  0.7900             1              0            1         0   \n",
      "29      1  0.6400             0              0            1         1   \n",
      "30      0  0.7900             1              1            0         1   \n",
      "31      0  0.7800             0              0            1         1   \n",
      "32      0  0.8000             0              0            1         2   \n",
      "33      0  0.7700             0              0            0         0   \n",
      "34      1  0.6100             0              1            1         0   \n",
      "35      1  0.7900             0              0            1         0   \n",
      "36      1  0.7400             0              0            1         0   \n",
      "37      0  0.7600             1              1            1         1   \n",
      "38      1  0.7400             0              0            1         1   \n",
      "39      1  0.7100             1              0            1         1   \n",
      "40      1  0.3400             0              1            1         0   \n",
      "41      0  0.7600             1              0            1         1   \n",
      "42      0  0.6300             0              0            1         2   \n",
      "43      1  0.6100             0              0            1         2   \n",
      "44      1  0.5400             1              0            1         0   \n",
      "45      1  0.4000             0              0            1         0   \n",
      "46      0  0.4800             1              0            0         0   \n",
      "47      1  0.6100             0              1            1         0   \n",
      "48      1  0.3100             1              0            1         2   \n",
      "49      0  0.4300             0              0            1         2   \n",
      "\n",
      "   Residence_type  avg_glucose_level       bmi smoking_status  \n",
      "0               0           0.674033  0.631112              1  \n",
      "1               0           0.253833  0.604859              3  \n",
      "2               1           0.732800  0.613979              3  \n",
      "3               1           0.723600  0.676168              3  \n",
      "4               0           0.632800  0.627571              3  \n",
      "5               0           0.705933  0.669691              0  \n",
      "6               1           0.303000  0.600851              0  \n",
      "7               1           0.365933  0.566365              3  \n",
      "8               1           0.299867  0.567958              3  \n",
      "9               1           0.251067  0.582796              0  \n",
      "10              1           0.658467  0.632046              1  \n",
      "11              1           0.792500  0.586334              0  \n",
      "12              1           0.349067  0.566365              3  \n",
      "13              0           0.208567  0.559098              0  \n",
      "14              1           0.551033  0.609822              1  \n",
      "15              1           0.338167  0.585859              3  \n",
      "16              1           0.237333  0.600078              3  \n",
      "17              1           0.274333  0.603991              2  \n",
      "18              1           0.354700  0.564041              0  \n",
      "19              1           0.733033  0.642407              3  \n",
      "20              1           0.310433  0.584217              0  \n",
      "21              1           0.208267  0.561409              3  \n",
      "22              0           0.338167  0.597275              0  \n",
      "23              1           0.228100  0.591666              0  \n",
      "24              0           0.565567  0.559437              3  \n",
      "25              1           0.193067  0.558818              0  \n",
      "26              1           0.272533  0.578915              2  \n",
      "27              1           0.234567  0.374385              3  \n",
      "28              0           0.250067  0.582796              1  \n",
      "29              0           0.373267  0.595811              0  \n",
      "30              0           0.203133  0.575197              1  \n",
      "31              0           0.202233  0.541726              0  \n",
      "32              1           0.368867  0.545642              3  \n",
      "33              1           0.271067  0.561629              3  \n",
      "34              1           0.699533  0.658941              3  \n",
      "35              0           0.382567  0.544868              0  \n",
      "36              1           0.557100  0.574728              3  \n",
      "37              1           0.666200  0.633681              2  \n",
      "38              0           0.203267  0.561409              1  \n",
      "39              0           0.292667  0.615274              3  \n",
      "40              1           0.354100  0.594047              0  \n",
      "41              1           0.698600  0.661580              1  \n",
      "42              0           0.266400  0.599404              2  \n",
      "43              1           0.613833  0.617263              3  \n",
      "44              0           0.662300  0.674752              2  \n",
      "45              0           0.299233  0.601336              2  \n",
      "46              0           0.393800  0.633942              0  \n",
      "47              1           0.294233  0.599946              1  \n",
      "48              1           0.307033  0.623963              1  \n",
      "49              0           0.358067  0.597084              1  \n"
     ]
    }
   ],
   "source": [
    "print(dftrain.head(50))\n",
    "print(dfeval.head(50))"
   ]
  },
  {
   "cell_type": "code",
   "execution_count": 7,
   "id": "af47b549",
   "metadata": {
    "execution": {
     "iopub.execute_input": "2022-08-15T11:30:31.594759Z",
     "iopub.status.busy": "2022-08-15T11:30:31.594025Z",
     "iopub.status.idle": "2022-08-15T11:30:31.602917Z",
     "shell.execute_reply": "2022-08-15T11:30:31.601878Z"
    },
    "papermill": {
     "duration": 0.016795,
     "end_time": "2022-08-15T11:30:31.605304",
     "exception": false,
     "start_time": "2022-08-15T11:30:31.588509",
     "status": "completed"
    },
    "tags": []
   },
   "outputs": [],
   "source": [
    "train=dftrain.to_numpy()\n",
    "evaluate=dfeval.to_numpy()\n",
    "y_train=y_train.to_numpy()\n",
    "y_eval=y_eval.to_numpy()"
   ]
  },
  {
   "cell_type": "code",
   "execution_count": 8,
   "id": "2a843e11",
   "metadata": {
    "execution": {
     "iopub.execute_input": "2022-08-15T11:30:31.614845Z",
     "iopub.status.busy": "2022-08-15T11:30:31.614007Z",
     "iopub.status.idle": "2022-08-15T11:30:31.620706Z",
     "shell.execute_reply": "2022-08-15T11:30:31.619367Z"
    },
    "papermill": {
     "duration": 0.014082,
     "end_time": "2022-08-15T11:30:31.623183",
     "exception": false,
     "start_time": "2022-08-15T11:30:31.609101",
     "status": "completed"
    },
    "tags": []
   },
   "outputs": [
    {
     "name": "stdout",
     "output_type": "stream",
     "text": [
      "[[1 0.67 0 ... 0.7623 0.732 0]\n",
      " [1 0.8 0 ... 0.3530666666666667 0.65 1]\n",
      " [0 0.49 0 ... 0.5707666666666666 0.688 2]\n",
      " ...\n",
      " [0 0.45 1 ... 0.3167333333333333 0.636 2]\n",
      " [1 0.4 0 ... 0.2798 0.6 2]\n",
      " [0 0.8 1 ... 0.2791666666666667 0.5820000000000001 1]]\n"
     ]
    }
   ],
   "source": [
    "print(train)"
   ]
  },
  {
   "cell_type": "code",
   "execution_count": null,
   "id": "5fa55752",
   "metadata": {
    "papermill": {
     "duration": 0.003377,
     "end_time": "2022-08-15T11:30:31.630332",
     "exception": false,
     "start_time": "2022-08-15T11:30:31.626955",
     "status": "completed"
    },
    "tags": []
   },
   "outputs": [],
   "source": []
  },
  {
   "cell_type": "markdown",
   "id": "905b3636",
   "metadata": {
    "papermill": {
     "duration": 0.00335,
     "end_time": "2022-08-15T11:30:31.637374",
     "exception": false,
     "start_time": "2022-08-15T11:30:31.634024",
     "status": "completed"
    },
    "tags": []
   },
   "source": []
  }
 ],
 "metadata": {
  "kernelspec": {
   "display_name": "Python 3",
   "language": "python",
   "name": "python3"
  },
  "language_info": {
   "codemirror_mode": {
    "name": "ipython",
    "version": 3
   },
   "file_extension": ".py",
   "mimetype": "text/x-python",
   "name": "python",
   "nbconvert_exporter": "python",
   "pygments_lexer": "ipython3",
   "version": "3.7.12"
  },
  "papermill": {
   "default_parameters": {},
   "duration": 11.291609,
   "end_time": "2022-08-15T11:30:32.362411",
   "environment_variables": {},
   "exception": null,
   "input_path": "__notebook__.ipynb",
   "output_path": "__notebook__.ipynb",
   "parameters": {},
   "start_time": "2022-08-15T11:30:21.070802",
   "version": "2.3.4"
  }
 },
 "nbformat": 4,
 "nbformat_minor": 5
}
